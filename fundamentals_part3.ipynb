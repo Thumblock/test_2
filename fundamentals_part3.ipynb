{
 "cells": [
  {
   "cell_type": "markdown",
   "metadata": {},
   "source": [
    "## Python fundamentals part 3 oop"
   ]
  },
  {
   "cell_type": "code",
   "execution_count": 1,
   "metadata": {},
   "outputs": [
    {
     "data": {
      "text/plain": [
       "<__main__.Admission at 0x217e656d010>"
      ]
     },
     "execution_count": 1,
     "metadata": {},
     "output_type": "execute_result"
    }
   ],
   "source": [
    "class Admission:\n",
    "    def __init__(self, school, program, name, accept):\n",
    "        self.school = school\n",
    "        self.program = program\n",
    "        self.name = name\n",
    "        self.accept = accept\n",
    "\n",
    "student1 = Admission(\"Cool school\", \"AI\", accept=True, name = \"Chipp\")\n",
    "student1"
   ]
  },
  {
   "cell_type": "code",
   "execution_count": null,
   "metadata": {},
   "outputs": [
    {
     "data": {
      "text/plain": [
       "<__main__.Admission at 0x217e6396850>"
      ]
     },
     "execution_count": 2,
     "metadata": {},
     "output_type": "execute_result"
    }
   ],
   "source": [
    "student2 = Admission(\"Cooler school\", \"Data science\", accept=False, name=\"Borat\")\n",
    "student2"
   ]
  },
  {
   "cell_type": "code",
   "execution_count": 8,
   "metadata": {},
   "outputs": [
    {
     "data": {
      "text/plain": [
       "('AI', 'Chipp', True)"
      ]
     },
     "execution_count": 8,
     "metadata": {},
     "output_type": "execute_result"
    }
   ],
   "source": [
    "student1.program, student1.name,student1.accept"
   ]
  },
  {
   "cell_type": "code",
   "execution_count": 9,
   "metadata": {},
   "outputs": [
    {
     "data": {
      "text/plain": [
       "('Borat', False)"
      ]
     },
     "execution_count": 9,
     "metadata": {},
     "output_type": "execute_result"
    }
   ],
   "source": [
    "student2.name, student2.accept"
   ]
  },
  {
   "cell_type": "code",
   "execution_count": 10,
   "metadata": {},
   "outputs": [
    {
     "data": {
      "text/plain": [
       "'UX'"
      ]
     },
     "execution_count": 10,
     "metadata": {},
     "output_type": "execute_result"
    }
   ],
   "source": [
    "student2.program = \"UX\"\n",
    "student2.program"
   ]
  },
  {
   "cell_type": "code",
   "execution_count": 11,
   "metadata": {},
   "outputs": [
    {
     "data": {
      "text/plain": [
       "('0x217e656d010', '0x217e6396850')"
      ]
     },
     "execution_count": 11,
     "metadata": {},
     "output_type": "execute_result"
    }
   ],
   "source": [
    "hex(id(student1)), hex(id(student2))"
   ]
  },
  {
   "cell_type": "markdown",
   "metadata": {},
   "source": [
    "## \\_\\_repr\\_\\_\n",
    "\n",
    "- \"dunder repper\"\n",
    "- method for representing an object or an instance"
   ]
  },
  {
   "cell_type": "code",
   "execution_count": 16,
   "metadata": {},
   "outputs": [
    {
     "data": {
      "text/plain": [
       "Admission(school='Cool school', program='Java', name='Mc-Lovin', accept=True)"
      ]
     },
     "execution_count": 16,
     "metadata": {},
     "output_type": "execute_result"
    }
   ],
   "source": [
    "class Admission:\n",
    "    def __init__(self, school, program, name, accept):\n",
    "        self.school = school\n",
    "        self.program = program\n",
    "        self.name = name\n",
    "        self.accept = accept\n",
    "\n",
    "    def __repr__(self):\n",
    "        return f\"Admission(school='{self.school}', program='{self.program}', name='{self.name}', accept={self.accept})\"\n",
    "\n",
    "\n",
    "student3 = Admission(\"Cool school\", \"Java\", \"Mc-Lovin\", True)\n",
    "student3"
   ]
  },
  {
   "cell_type": "code",
   "execution_count": 17,
   "metadata": {},
   "outputs": [
    {
     "data": {
      "text/plain": [
       "\"Admission(school='Cool school', program='Java', name='Mc-Lovin', accept=True)\""
      ]
     },
     "execution_count": 17,
     "metadata": {},
     "output_type": "execute_result"
    }
   ],
   "source": [
    "repr(student3)"
   ]
  },
  {
   "cell_type": "code",
   "execution_count": 18,
   "metadata": {},
   "outputs": [
    {
     "data": {
      "text/plain": [
       "\"Admission(school='Cool school', program='Java', name='Mc-Lovin', accept=True)\""
      ]
     },
     "execution_count": 18,
     "metadata": {},
     "output_type": "execute_result"
    }
   ],
   "source": [
    "str(student3)"
   ]
  },
  {
   "cell_type": "markdown",
   "metadata": {},
   "source": [
    "## Documentation\n",
    "\n",
    "- docstring\n",
    "- type hinting"
   ]
  },
  {
   "cell_type": "code",
   "execution_count": 20,
   "metadata": {},
   "outputs": [
    {
     "data": {
      "text/plain": [
       "Student(name='Mc-lovin', age=69, active=True)"
      ]
     },
     "execution_count": 20,
     "metadata": {},
     "output_type": "execute_result"
    }
   ],
   "source": [
    "class Student:\n",
    "    def __init__(self, name: str, age: int, active: bool) -> None:\n",
    "        self.name = name\n",
    "        self.age = age\n",
    "        self.active = active\n",
    "\n",
    "    def __repr__(self) -> str:\n",
    "        return f\"Student(name='{self.name}', age={self.age}, active={self.active})\"\n",
    "    \n",
    "s1 = Student(\"Mc-lovin\", 69, True)\n",
    "s1\n"
   ]
  },
  {
   "cell_type": "code",
   "execution_count": 21,
   "metadata": {},
   "outputs": [
    {
     "name": "stdout",
     "output_type": "stream",
     "text": [
      "Student(name='Mc-lovin', age=69, active=True)\n",
      "Help on class Student in module __main__:\n",
      "\n",
      "class Student(builtins.object)\n",
      " |  Student(name: str, age: int, active: bool) -> None\n",
      " |\n",
      " |  A class representing a student.\n",
      " |\n",
      " |  Attributes:\n",
      " |      name (str): The name of the student.\n",
      " |      age (int): The age of the student.\n",
      " |      active (bool): Whether the student is currently active.\n",
      " |\n",
      " |  Methods:\n",
      " |      __repr__(): Returns a string representation of the Student instance.\n",
      " |\n",
      " |  Example:\n",
      " |      >>> s1 = Student(\"Mc-lovin\", 69, True)\n",
      " |      >>> print(s1)\n",
      " |      Student(name='Mc-lovin', age=69, active=True)\n",
      " |\n",
      " |  Methods defined here:\n",
      " |\n",
      " |  __init__(self, name: str, age: int, active: bool) -> None\n",
      " |      Initializes a Student instance.\n",
      " |\n",
      " |      Args:\n",
      " |          name (str): The name of the student.\n",
      " |          age (int): The age of the student.\n",
      " |          active (bool): The active status of the student.\n",
      " |\n",
      " |  __repr__(self) -> str\n",
      " |      Returns a string representation of the Student instance.\n",
      " |\n",
      " |      Returns:\n",
      " |          str: A formatted string representing the student.\n",
      " |\n",
      " |  ----------------------------------------------------------------------\n",
      " |  Data descriptors defined here:\n",
      " |\n",
      " |  __dict__\n",
      " |      dictionary for instance variables\n",
      " |\n",
      " |  __weakref__\n",
      " |      list of weak references to the object\n",
      "\n"
     ]
    }
   ],
   "source": [
    "class Student:\n",
    "    \"\"\"\n",
    "    A class representing a student.\n",
    "\n",
    "    Attributes:\n",
    "        name (str): The name of the student.\n",
    "        age (int): The age of the student.\n",
    "        active (bool): Whether the student is currently active.\n",
    "\n",
    "    Methods:\n",
    "        __repr__(): Returns a string representation of the Student instance.\n",
    "\n",
    "    Example:\n",
    "        >>> s1 = Student(\"Mc-lovin\", 69, True)\n",
    "        >>> print(s1)\n",
    "        Student(name='Mc-lovin', age=69, active=True)\n",
    "    \"\"\"\n",
    "\n",
    "    def __init__(self, name: str, age: int, active: bool) -> None:\n",
    "        \"\"\"\n",
    "        Initializes a Student instance.\n",
    "\n",
    "        Args:\n",
    "            name (str): The name of the student.\n",
    "            age (int): The age of the student.\n",
    "            active (bool): The active status of the student.\n",
    "        \"\"\"\n",
    "        self.name = name\n",
    "        self.age = age\n",
    "        self.active = active\n",
    "\n",
    "    def __repr__(self) -> str:\n",
    "        \"\"\"\n",
    "        Returns a string representation of the Student instance.\n",
    "\n",
    "        Returns:\n",
    "            str: A formatted string representing the student.\n",
    "        \"\"\"\n",
    "        return f\"Student(name='{self.name}', age={self.age}, active={self.active})\"\n",
    "\n",
    "\n",
    "# Example usage\n",
    "s1 = Student(\"Mc-lovin\", 69, True)\n",
    "print(s1)\n",
    "\n",
    "help(Student)"
   ]
  }
 ],
 "metadata": {
  "kernelspec": {
   "display_name": ".VENV",
   "language": "python",
   "name": "python3"
  },
  "language_info": {
   "codemirror_mode": {
    "name": "ipython",
    "version": 3
   },
   "file_extension": ".py",
   "mimetype": "text/x-python",
   "name": "python",
   "nbconvert_exporter": "python",
   "pygments_lexer": "ipython3",
   "version": "3.13.2"
  }
 },
 "nbformat": 4,
 "nbformat_minor": 2
}
